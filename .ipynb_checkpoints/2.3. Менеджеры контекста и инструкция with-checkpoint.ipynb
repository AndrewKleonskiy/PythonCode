{
 "cells": [
  {
   "cell_type": "markdown",
   "id": "67cd9aaf",
   "metadata": {},
   "source": [
    "### 2.3. Менеджеры контекста и инструкция with\n"
   ]
  },
  {
   "cell_type": "markdown",
   "id": "7117e31c",
   "metadata": {},
   "source": [
    "Итак, в чем же прелесть инструкции with? Она помогает упростить некоторые распространенные шаблоны управления ресурсами, абстраги- руясь от их функциональности и позволяя выделять их и использовать повторно.\n",
    "Один из хороших способов увидеть эффективное применение данного функционального средства языка — посмотреть на примеры в стандарт- ной библиотеке Python. Встроенная функция open() предоставляет превосходный вариант ее применения:\n"
   ]
  },
  {
   "cell_type": "code",
   "execution_count": 5,
   "id": "5e77ed37",
   "metadata": {},
   "outputs": [],
   "source": [
    "with open('hello.txt', 'w') as f:\n",
    "     f.write('привет, мир!')"
   ]
  },
  {
   "cell_type": "markdown",
   "id": "47748011",
   "metadata": {},
   "source": [
    "#Еще одним хорошим примером, где инструкция with эффективно исполь- зуется в стандартной библиотеке Python, является класс threading.Lock:  \n",
    "\n",
    "#some_lock = threading.Lock()  \n",
    "\n",
    "#Вредно:  \n",
    "some_lock.acquire()  \n",
    "try:  \n",
    "    # Сделать что-то...\n",
    "finally:  \n",
    "    some_lock.release()  \n",
    "#Лучше:  \n",
    "with some_lock:  \n",
    "    # Сделать что-то..."
   ]
  },
  {
   "cell_type": "markdown",
   "id": "1d877f4e",
   "metadata": {},
   "source": [
    "### Поддержка инструкции with в собственных объектах\n",
    "Нужно сказать, что в функции open() или классе threading.Lock нет ничего особенного или чудесного, равно как и в том, что они могут при- меняться вместе с инструкцией with. Ту же самую функциональность можно обеспечить в собственных классах и функциях путем реализации так называемых менеджеров контекста (context managers)1.\n",
    "Что такое менеджер контекста? Это простой «протокол» (или интерфейс), который ваш объект должен соблюдать для того, чтобы поддерживать инструкцию with. В сущности, если вы хотите, чтобы объект функционировал как менеджер контекста, от вас требуется только одно — добавить в него методы __enter__ и __exit__. Python будет вызывать эти два метода в соответствующих случаях в цикле управления ресурсом.\n",
    "Давайте посмотрим, как это выглядит на практике. Вот пример простой реализации контекстного менеджера open():"
   ]
  },
  {
   "cell_type": "code",
   "execution_count": 13,
   "id": "9c705518",
   "metadata": {},
   "outputs": [],
   "source": [
    "class ManagedFile:\n",
    "    def __init__(self, name):\n",
    "         self.name = name\n",
    "    def __enter__(self):\n",
    "        self.file = open(self.name, 'w')\n",
    "        return self.file\n",
    "    def __exit__(self, exc_type, exc_val, exc_tb):\n",
    "        if self.file:\n",
    "            self.file.close()"
   ]
  },
  {
   "cell_type": "code",
   "execution_count": 14,
   "id": "019c70e0",
   "metadata": {},
   "outputs": [],
   "source": [
    "with ManagedFile('hello.txt') as f:\n",
    "    f.write('привет, мир!')\n",
    "    f.write('а теперь, пока!')"
   ]
  },
  {
   "cell_type": "markdown",
   "id": "7e801732",
   "metadata": {},
   "source": [
    "Написание менеджера контекста на основе класса не является единствен- ным способом поддержки инструкции with в Python. Служебный модуль contextlib1 стандартной библиотеки обеспечивает еще несколько аб- стракций, надстроенных поверх базового протокола менеджера контекста. Он может слегка облегчить вашу жизнь, если ваши варианты применения совпадают с тем, что предлагается модулем contextlib.\n",
    "Например, вы можете применить декоратор contextlib.contextmanager, чтобы определить для ресурса фабричную функцию на основе генератора, которая затем будет автоматически поддерживать инструкцию with. Вот как выглядит пример нашего контекстного менеджера ManagedFile, пере- писанный в соответствии с этим приемом:"
   ]
  },
  {
   "cell_type": "code",
   "execution_count": 16,
   "id": "321a74dd",
   "metadata": {},
   "outputs": [],
   "source": [
    "from contextlib import contextmanager\n",
    "@contextmanager\n",
    "def managed_file(name):\n",
    "    try:\n",
    "        f = open(name, 'w')\n",
    "        yield f\n",
    "    finally:\n",
    "        f.close()"
   ]
  },
  {
   "cell_type": "code",
   "execution_count": 17,
   "id": "d673bb0d",
   "metadata": {},
   "outputs": [],
   "source": [
    "with managed_file('hello.txt') as f:\n",
    "    f.write('привет, мир!')\n",
    "    f.write('а теперь, пока!')"
   ]
  },
  {
   "cell_type": "markdown",
   "id": "d2b11c06",
   "metadata": {},
   "source": [
    "В данном случае managed_file() является генератором, который сначала получает ресурс. После этого он временно приостанавливает собственное\n",
    "\n",
    "Исполнение и передает ресурс инструкцией yield, чтобы его использовал источник вызова. Когда источник вызова покидает контекст with, гене- ратор продолжает выполняться до тех пор, пока не произойдут любые оставшиеся шаги очистки, после чего ресурс будет высвобожден и воз- вращен системе."
   ]
  },
  {
   "cell_type": "markdown",
   "id": "47450da3",
   "metadata": {},
   "source": [
    "### Написание красивых API с менеджерами контекста"
   ]
  },
  {
   "cell_type": "markdown",
   "id": "580ca75c",
   "metadata": {},
   "source": [
    "Менеджеры контекста обладают достаточной гибкостью, и если к применению инструкции with подойти творчески, то для своих модулей и классов вы сможете определять удобные API.\n",
    "Например, что, если «ресурсом», которым мы хотели бы управлять, являются уровни отступа текста в некоей программе — генераторе отчетов? Что, если бы для этого мы смогли написать исходный код, который выглядит вот так:"
   ]
  },
  {
   "cell_type": "code",
   "execution_count": 21,
   "id": "b5b47f36",
   "metadata": {},
   "outputs": [
    {
     "ename": "NameError",
     "evalue": "name 'Indenter' is not defined",
     "output_type": "error",
     "traceback": [
      "\u001b[0;31m---------------------------------------------------------------------------\u001b[0m",
      "\u001b[0;31mNameError\u001b[0m                                 Traceback (most recent call last)",
      "\u001b[0;32m<ipython-input-21-4008b67199b1>\u001b[0m in \u001b[0;36m<module>\u001b[0;34m\u001b[0m\n\u001b[0;32m----> 1\u001b[0;31m \u001b[0;32mwith\u001b[0m \u001b[0mIndenter\u001b[0m\u001b[0;34m(\u001b[0m\u001b[0;34m)\u001b[0m \u001b[0;32mas\u001b[0m \u001b[0mindent\u001b[0m\u001b[0;34m:\u001b[0m\u001b[0;34m\u001b[0m\u001b[0;34m\u001b[0m\u001b[0m\n\u001b[0m\u001b[1;32m      2\u001b[0m     \u001b[0mindent\u001b[0m\u001b[0;34m.\u001b[0m\u001b[0mprint\u001b[0m\u001b[0;34m(\u001b[0m\u001b[0;34m'привет!'\u001b[0m\u001b[0;34m)\u001b[0m\u001b[0;34m\u001b[0m\u001b[0;34m\u001b[0m\u001b[0m\n\u001b[1;32m      3\u001b[0m     \u001b[0;32mwith\u001b[0m \u001b[0mindent\u001b[0m\u001b[0;34m:\u001b[0m\u001b[0;34m\u001b[0m\u001b[0;34m\u001b[0m\u001b[0m\n\u001b[1;32m      4\u001b[0m         \u001b[0mindent\u001b[0m\u001b[0;34m.\u001b[0m\u001b[0mprint\u001b[0m\u001b[0;34m(\u001b[0m\u001b[0;34m'здорово'\u001b[0m\u001b[0;34m)\u001b[0m\u001b[0;34m\u001b[0m\u001b[0;34m\u001b[0m\u001b[0m\n\u001b[1;32m      5\u001b[0m         \u001b[0;32mwith\u001b[0m \u001b[0mindent\u001b[0m\u001b[0;34m:\u001b[0m\u001b[0;34m\u001b[0m\u001b[0;34m\u001b[0m\u001b[0m\n",
      "\u001b[0;31mNameError\u001b[0m: name 'Indenter' is not defined"
     ]
    }
   ],
   "source": [
    "with Indenter() as indent:\n",
    "    indent.print('привет!')\n",
    "    with indent:\n",
    "        indent.print('здорово')\n",
    "        with indent:\n",
    "            indent.print('бонжур')\n",
    "    indent.print('эй')"
   ]
  },
  {
   "cell_type": "code",
   "execution_count": null,
   "id": "ba6f68f0",
   "metadata": {},
   "outputs": [],
   "source": []
  }
 ],
 "metadata": {
  "kernelspec": {
   "display_name": "Python 3",
   "language": "python",
   "name": "python3"
  },
  "language_info": {
   "codemirror_mode": {
    "name": "ipython",
    "version": 3
   },
   "file_extension": ".py",
   "mimetype": "text/x-python",
   "name": "python",
   "nbconvert_exporter": "python",
   "pygments_lexer": "ipython3",
   "version": "3.8.8"
  }
 },
 "nbformat": 4,
 "nbformat_minor": 5
}
