{
 "cells": [
  {
   "cell_type": "markdown",
   "id": "2e7646b2",
   "metadata": {},
   "source": [
    "### 2 .2 . Беспечное размещение запятой"
   ]
  },
  {
   "cell_type": "code",
   "execution_count": 1,
   "id": "5a1e4529",
   "metadata": {},
   "outputs": [],
   "source": [
    "#Не очень хорошо:\n",
    "names = ['Элис','Боб','Дилберт']\n",
    "#Лучше:\n",
    "names = [\n",
    "    'Элис',\n",
    "    'Боб',\n",
    "    'Дилберт'\n",
    "]"
   ]
  },
  {
   "cell_type": "markdown",
   "id": "f53c7b18",
   "metadata": {},
   "source": [
    "Благодаря этому получится один элемент на строку, и во время просмотра результатов команды diff в своей системе управления исходным кодом станет предельно ясно, какой из них был добавлен, удален или изменен."
   ]
  },
  {
   "cell_type": "code",
   "execution_count": 2,
   "id": "7fb6f9f1",
   "metadata": {},
   "outputs": [],
   "source": [
    "names = [\n",
    "    'Элис',\n",
    "    'Боб',\n",
    "    'Дилберт'\n",
    "    'Джейн'\n",
    "]"
   ]
  },
  {
   "cell_type": "code",
   "execution_count": 3,
   "id": "d13f3f6b",
   "metadata": {},
   "outputs": [
    {
     "data": {
      "text/plain": [
       "['Элис', 'Боб', 'ДилбертДжейн']"
      ]
     },
     "execution_count": 3,
     "metadata": {},
     "output_type": "execute_result"
    }
   ],
   "source": [
    "names"
   ]
  },
  {
   "cell_type": "code",
   "execution_count": 8,
   "id": "8a048306",
   "metadata": {},
   "outputs": [],
   "source": [
    "#Контанеция:\n",
    "my_str = ('Это супердлинная строковая контстанта, ''развернутая на несколько строк.'' И обратите внимание - не требуется никаких обратных косых!')"
   ]
  },
  {
   "cell_type": "code",
   "execution_count": 9,
   "id": "71e9194c",
   "metadata": {},
   "outputs": [
    {
     "data": {
      "text/plain": [
       "'Это супердлинная строковая контстанта, развернутая на несколько строк. И обратите внимание - не требуется никаких обратных косых!'"
      ]
     },
     "execution_count": 9,
     "metadata": {},
     "output_type": "execute_result"
    }
   ],
   "source": [
    "my_str"
   ]
  },
  {
   "cell_type": "code",
   "execution_count": 10,
   "id": "8de88c43",
   "metadata": {},
   "outputs": [],
   "source": [
    "names = [\n",
    "    'Элис',\n",
    "    'Боб',\n",
    "    'Дилберт',\n",
    "    'Джейн'\n",
    "]"
   ]
  },
  {
   "cell_type": "code",
   "execution_count": 11,
   "id": "70c7188c",
   "metadata": {},
   "outputs": [],
   "source": [
    "#Вот как будет выглядеть окончательный пример, после последнего элемента лучше ставить запятую:\n",
    "names = [\n",
    "    'Элис',\n",
    "    'Боб',\n",
    "    'Дилберт',\n",
    "]"
   ]
  },
  {
   "cell_type": "markdown",
   "id": "aa63bc44",
   "metadata": {},
   "source": [
    "#### Ключевые выводы :\n",
    "**1)Продуманное форматирование и размещение запятой может упростить обслуживание ваших констант списка, словаря или множества.**   \n",
    "\n",
    "**2)Конкатенация строковых литералов как функциональное средство Python может работать как на вас, так и против, внося в код трудноот- лавливаемые ошибки.**"
   ]
  },
  {
   "cell_type": "code",
   "execution_count": null,
   "id": "5ac75533",
   "metadata": {},
   "outputs": [],
   "source": []
  }
 ],
 "metadata": {
  "kernelspec": {
   "display_name": "Python 3",
   "language": "python",
   "name": "python3"
  },
  "language_info": {
   "codemirror_mode": {
    "name": "ipython",
    "version": 3
   },
   "file_extension": ".py",
   "mimetype": "text/x-python",
   "name": "python",
   "nbconvert_exporter": "python",
   "pygments_lexer": "ipython3",
   "version": "3.8.8"
  }
 },
 "nbformat": 4,
 "nbformat_minor": 5
}
