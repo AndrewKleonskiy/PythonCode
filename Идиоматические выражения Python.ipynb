{
 "cells": [
  {
   "cell_type": "markdown",
   "id": "63336894",
   "metadata": {},
   "source": [
    "# 4.3 Идиоматические выражения Python:"
   ]
  },
  {
   "cell_type": "markdown",
   "id": "4a92532c",
   "metadata": {},
   "source": [
    "## Синтаксический сахар"
   ]
  },
  {
   "cell_type": "markdown",
   "id": "0b62b0e6",
   "metadata": {},
   "source": [
    "    Многие языки программирования предоставляют синтаксис, позволяющий проще выполнять часто встречающихся небольшие действия и писать более яный код. Такой синтаксический сахар состоит из конструкций, которые можно убрать из языка без ущерба его функциональности."
   ]
  },
  {
   "cell_type": "markdown",
   "id": "8d7b63e6",
   "metadata": {},
   "source": [
    "## 4.3.1 Рациональные операции сравнения и присваивания"
   ]
  },
  {
   "cell_type": "markdown",
   "id": "bbcf3e04",
   "metadata": {},
   "source": [
    "    Если один объект необходимо присвоить нескольким переменным, то можно воспользоваться рациональной операцией присваивания:"
   ]
  },
  {
   "cell_type": "code",
   "execution_count": 5,
   "id": "67b48db2",
   "metadata": {},
   "outputs": [],
   "source": [
    "x = y = z = -1"
   ]
  },
  {
   "cell_type": "markdown",
   "id": "be2ddb36",
   "metadata": {},
   "source": [
    "    Несколько присваиваний различных объектов можно выполнить в одной строке с помощью распаковки кортежа:"
   ]
  },
  {
   "cell_type": "code",
   "execution_count": 7,
   "id": "dfb69887",
   "metadata": {},
   "outputs": [],
   "source": [
    "a,b,c = x + 1, 'hello', -4.5"
   ]
  },
  {
   "cell_type": "markdown",
   "id": "4ba61f54",
   "metadata": {},
   "source": [
    "    Кортеж в правой части этого выражения (в этом случае скобки не обязательны) распаковываются для присваивания его элементов именам переменных в левой части. Эта строка равнозначна следующим трем строкам:"
   ]
  },
  {
   "cell_type": "code",
   "execution_count": 8,
   "id": "aa30f156",
   "metadata": {},
   "outputs": [],
   "source": [
    "a = x + 1\n",
    "b = 'hello'\n",
    "c = -4.5"
   ]
  },
  {
   "cell_type": "markdown",
   "id": "9d81d06b",
   "metadata": {},
   "source": [
    "    В подобных выражениях сначала вычисляется правая часть, затем выполняется присваивание в левой части. Как уже было показано ранее, такой подход предоставляет очень удобный способ обмена значениями двух переменных без использования временной переменной:"
   ]
  },
  {
   "cell_type": "code",
   "execution_count": 10,
   "id": "09f400d4",
   "metadata": {},
   "outputs": [],
   "source": [
    "a,b = b,a"
   ]
  },
  {
   "cell_type": "markdown",
   "id": "bfb84d09",
   "metadata": {},
   "source": [
    "    Операции сравнения также можно объединять в цепочку вполне естественным способом:"
   ]
  },
  {
   "cell_type": "code",
   "execution_count": 12,
   "id": "7eb2fbf3",
   "metadata": {},
   "outputs": [],
   "source": [
    "if a == b == 3:\n",
    "    print('a and b both equal 3')\n",
    "if -1 < x < 1:\n",
    "    print('x is between -1 and 1')"
   ]
  },
  {
   "cell_type": "markdown",
   "id": "c9c8a4b3",
   "metadata": {},
   "source": [
    "    Python поддерживает операцию условного присваивания: имени переменной может быть присвоено одно или другое значение в зависимости от результата вычисления выражения if...else непосредственно в строке присваивания."
   ]
  },
  {
   "cell_type": "code",
   "execution_count": 15,
   "id": "53369a1a",
   "metadata": {},
   "outputs": [],
   "source": [
    "import math\n",
    "#Например:  \n",
    "y = math.sin(x)/x if x else 1"
   ]
  },
  {
   "cell_type": "markdown",
   "id": "35432c60",
   "metadata": {},
   "source": [
    "    Короткие примеры, подобные приведенному выше, в которых показано, как можно избежать потенциального деления на ноль (напомню, что 0 вычисляется как False), весьма просты. Поэтому не рекомендуется применять эту идиоматическую конструкцию в более сложных случаях, а лучше заменить ее более явной конструкцией, например:"
   ]
  },
  {
   "cell_type": "code",
   "execution_count": 17,
   "id": "19ec9189",
   "metadata": {},
   "outputs": [],
   "source": [
    "try:\n",
    "    y = math.sin(x)/3\n",
    "except ZeroDivisionError:\n",
    "    y = 1"
   ]
  },
  {
   "cell_type": "markdown",
   "id": "13b10b1d",
   "metadata": {},
   "source": [
    "## 4.3.2 Генерация списка"
   ]
  },
  {
   "cell_type": "markdown",
   "id": "b351e569",
   "metadata": {},
   "source": [
    "    Генератор списков в Python - это конструкция для создания списка на основе другого итерируемого объекта в одной строке кода. Например, если задан список чисел xlist, то список квадратов этих чисел можно сгенерировать следующим образом:"
   ]
  },
  {
   "cell_type": "code",
   "execution_count": 19,
   "id": "baf41676",
   "metadata": {},
   "outputs": [
    {
     "data": {
      "text/plain": [
       "[1, 4, 9, 16, 25]"
      ]
     },
     "execution_count": 19,
     "metadata": {},
     "output_type": "execute_result"
    }
   ],
   "source": [
    "xlist = [1,2,3,4,5]\n",
    "x2list = [x**2 for x in xlist]\n",
    "x2list"
   ]
  },
  {
   "cell_type": "markdown",
   "id": "df9fdf9b",
   "metadata": {},
   "source": [
    "    Это более острый и синтаксически более удобный и понятный способ создания списка, по сравнению с созданием того же списка в блоке кода цикла for:"
   ]
  },
  {
   "cell_type": "code",
   "execution_count": 21,
   "id": "dd95a4bc",
   "metadata": {},
   "outputs": [
    {
     "data": {
      "text/plain": [
       "[1, 9, 25]"
      ]
     },
     "execution_count": 21,
     "metadata": {},
     "output_type": "execute_result"
    }
   ],
   "source": [
    "x2list = [x**2 for x in xlist if x % 2]\n",
    "x2list"
   ]
  },
  {
   "cell_type": "markdown",
   "id": "1a24ee66",
   "metadata": {},
   "source": [
    "    Здесь x передается в выражение x ** 2 для включения в формируемый список x2list, только если выражение x % 2 дает результат True (т.е. если x - нечетное число). Это пример фильтра (одиночного условного выражения if)Если требуется сложное отображение значений из исходной последовательности в значения создаваемого списка, то необходимо поместить выражение if ...else перед циклом for:"
   ]
  },
  {
   "cell_type": "code",
   "execution_count": 22,
   "id": "8ab87287",
   "metadata": {},
   "outputs": [
    {
     "data": {
      "text/plain": [
       "[1, 8, 9, 64, 25]"
      ]
     },
     "execution_count": 22,
     "metadata": {},
     "output_type": "execute_result"
    }
   ],
   "source": [
    "[x**2 if x % 2 else x**3 for x in xlist]"
   ]
  },
  {
   "cell_type": "markdown",
   "id": "f4811914",
   "metadata": {},
   "source": [
    "    Этот генератор возводит в квадрат нечетные числа или в куб четные целые числа из списка xlist"
   ]
  },
  {
   "cell_type": "markdown",
   "id": "e25c87dc",
   "metadata": {},
   "source": [
    "    Разумеется, последовательность, используемая для генерации списка, не должна содержать другой список. Например, строки, кортежи и объекты range являются итерируемыми объектами, поэтому могут использоваться для генерации списков:"
   ]
  },
  {
   "cell_type": "code",
   "execution_count": 24,
   "id": "48657732",
   "metadata": {},
   "outputs": [
    {
     "data": {
      "text/plain": [
       "['A', 'B', 'C', ' ', 'W', 'Y', 'Z']"
      ]
     },
     "execution_count": 24,
     "metadata": {},
     "output_type": "execute_result"
    }
   ],
   "source": [
    "[x**3 for x in range(1, 10)]\n",
    "[w.upper() for w in 'abc wyz']"
   ]
  },
  {
   "cell_type": "markdown",
   "id": "9d665461",
   "metadata": {},
   "source": [
    "    Наконец, генераторы списков могут быть вложенными. Например, в следующем фрагменте кода демонстрируется преобразование списка, состоящего из вложенных списков, в простой одномерный список:"
   ]
  },
  {
   "cell_type": "code",
   "execution_count": 26,
   "id": "9436f08a",
   "metadata": {},
   "outputs": [
    {
     "data": {
      "text/plain": [
       "[1, 2, 3, 4, 5, 6, 7, 8, 9]"
      ]
     },
     "execution_count": 26,
     "metadata": {},
     "output_type": "execute_result"
    }
   ],
   "source": [
    "vlist = [[1,2,3],[4,5,6],[7,8,9]]\n",
    "[c for v in vlist for c in v]"
   ]
  },
  {
   "cell_type": "markdown",
   "id": "96a8056a",
   "metadata": {},
   "source": [
    "    Здесь первый цикл for обрабатывает внутренние списки по очереди как v, и по каждому внутреннему списку v выполняется итеративный проход с переменной с для добавления элементов в создаваемый список"
   ]
  },
  {
   "cell_type": "markdown",
   "id": "39892daf",
   "metadata": {},
   "source": [
    "**Пример П4.10**\n",
    "Рассмотрим матрицу 3*3, представленную как список списков:"
   ]
  },
  {
   "cell_type": "code",
   "execution_count": 27,
   "id": "958686a5",
   "metadata": {},
   "outputs": [],
   "source": [
    "M = [[1,2,3],[4,5,6],[7,8,9]]"
   ]
  },
  {
   "cell_type": "markdown",
   "id": "1c5b6a45",
   "metadata": {},
   "source": [
    "Без использования генератора списков операцию транспонирования этой матрицы можно было реализовать с помощью циклов с проходом по строкам и столбцам:"
   ]
  },
  {
   "cell_type": "code",
   "execution_count": 30,
   "id": "591d39a6",
   "metadata": {},
   "outputs": [],
   "source": [
    "MT = [[0,0,0],[0,0,0],[0,0,0]]\n",
    "for ir in range(3):\n",
    "    for ic in range(3):\n",
    "        MT[ic][ir] = M[ir][ic]"
   ]
  },
  {
   "cell_type": "markdown",
   "id": "9b04fa9d",
   "metadata": {},
   "source": [
    "    Применяя генератор списков, операцию транспонирования матрицы можно реализовать следующим образом:"
   ]
  },
  {
   "cell_type": "code",
   "execution_count": 32,
   "id": "1cec8e50",
   "metadata": {},
   "outputs": [],
   "source": [
    "MT = []\n",
    "for i in range(3):\n",
    "    MT.append([row[i] for row in M])"
   ]
  },
  {
   "cell_type": "markdown",
   "id": "952d7389",
   "metadata": {},
   "source": [
    "    Здесь строки транспонированной матрицы формируются из столбцов (проиндексированных как i = 0,1,2) из каждой строки, взятой из исходной матрицы M. Внешний цикл можно представить сам по себе как генератор собственного спика: "
   ]
  },
  {
   "cell_type": "code",
   "execution_count": 36,
   "id": "52bc6c28",
   "metadata": {},
   "outputs": [
    {
     "data": {
      "text/plain": [
       "[[1, 4, 7], [2, 5, 8], [3, 6, 9]]"
      ]
     },
     "execution_count": 36,
     "metadata": {},
     "output_type": "execute_result"
    }
   ],
   "source": [
    "MT = [[row[i] for row in M] for i in range(3)]\n",
    "MT"
   ]
  },
  {
   "cell_type": "code",
   "execution_count": 37,
   "id": "948b7ae0",
   "metadata": {},
   "outputs": [
    {
     "data": {
      "text/plain": [
       "[[1, 4, 7], [2, 5, 8], [3, 6, 9]]"
      ]
     },
     "execution_count": 37,
     "metadata": {},
     "output_type": "execute_result"
    }
   ],
   "source": [
    "MT"
   ]
  },
  {
   "cell_type": "markdown",
   "id": "37a936c3",
   "metadata": {},
   "source": [
    "    Но следует отметить, что библиотека NumPy предоставляет гораздо более простые и удобные средства для работы с матрицами."
   ]
  },
  {
   "cell_type": "markdown",
   "id": "7d939082",
   "metadata": {},
   "source": [
    "## 4.3.3 Лямбда-функции"
   ]
  },
  {
   "cell_type": "markdown",
   "id": "699ffcac",
   "metadata": {},
   "source": [
    "    Лямбда-функции(lambda) в Python - это тип простой анонимной функции. Выполняемое тело лямбда-функции обязательно должно  быть выражением (expression), а не инструкцией (statement), t.e. тело лямбда-функции не может содержать, например, блоки циклов, проверки условий, или инструкции print. Лямбда-функции обеспечивают ограниченную поддержку парадигмы программирования, известной как \"функциональное программирование\" (functional programming). Простейший пример применения лямбда функции немного отличается от обычного способа определения функции def, показан ниже:"
   ]
  },
  {
   "cell_type": "code",
   "execution_count": 39,
   "id": "6c3de8c0",
   "metadata": {},
   "outputs": [
    {
     "name": "stdout",
     "output_type": "stream",
     "text": [
      "6.0\n"
     ]
    }
   ],
   "source": [
    "f = lambda x: x**2 - 3*x + 2\n",
    "print(f(4.))"
   ]
  },
  {
   "cell_type": "markdown",
   "id": "e5cdd15f",
   "metadata": {},
   "source": [
    "    Аргумент передается в x, а результат, обусловленный определением лямбда - функции после двоеточия, возращается вызывающей стороне. Для передачи нескольких переменных в лямбда-функцию используется кортеж (без скобок):"
   ]
  },
  {
   "cell_type": "code",
   "execution_count": 40,
   "id": "54ab2f60",
   "metadata": {},
   "outputs": [
    {
     "data": {
      "text/plain": [
       "25.0"
      ]
     },
     "execution_count": 40,
     "metadata": {},
     "output_type": "execute_result"
    }
   ],
   "source": [
    "f = lambda x,y: x**2 + y**2 + 2*x*y\n",
    "f(2.,3.)"
   ]
  },
  {
   "cell_type": "markdown",
   "id": "64620fbd",
   "metadata": {},
   "source": [
    "    В этих примерах не наблюдается какая-либо особая польза от лямбда-функций, да и определенные здесь функции не вполне анонимны (поскольку они были связаны с именем переменной f). Более полезное применение - создание списка функций, как показано в примере П4.11."
   ]
  },
  {
   "cell_type": "markdown",
   "id": "88339fb1",
   "metadata": {},
   "source": [
    "    Пример П4.11.\n",
    "    Функции это объекты (как и все в Python), поэтому их можно сохранять в списках.Без использования лямбда-функций пришлось бы определять именованные функции (с помощью ключевого слова def) перед созданием спика:"
   ]
  },
  {
   "cell_type": "code",
   "execution_count": 47,
   "id": "53ac5b75",
   "metadata": {},
   "outputs": [
    {
     "data": {
      "text/plain": [
       "4"
      ]
     },
     "execution_count": 47,
     "metadata": {},
     "output_type": "execute_result"
    }
   ],
   "source": [
    "def const(x):\n",
    "    return 1.\n",
    "def lin(x):\n",
    "    return x\n",
    "def square(x):\n",
    "    return x**2\n",
    "def cube(x):\n",
    "    return x**3\n",
    "flist = [const,lin,square,cube]\n",
    "flist[2](2)"
   ]
  },
  {
   "cell_type": "markdown",
   "id": "86b41366",
   "metadata": {},
   "source": [
    "    Преимущество использования лямбда-выражений как анонимных функций заключается в том, что для этих функций не требуются имена, поэтому они могут определяться как подстановочные или встраиваемые (inline) элементы при формировании списка:"
   ]
  },
  {
   "cell_type": "code",
   "execution_count": 51,
   "id": "068ece3d",
   "metadata": {},
   "outputs": [
    {
     "data": {
      "text/plain": [
       "3"
      ]
     },
     "execution_count": 51,
     "metadata": {},
     "output_type": "execute_result"
    }
   ],
   "source": [
    "flist = [lambda x :1, lambda x: x, lambda x: x**2, lambda x: x**3]\n",
    "flist[1](3)"
   ]
  },
  {
   "cell_type": "markdown",
   "id": "3bad28c1",
   "metadata": {},
   "source": [
    "    Пример П.4.12.  \n",
    "    Встроенный метод sorted и метод списка sort могут упорядочивать списки на основе значения, возращаемого функцией, вызываемой предварительно для выполнения сравнений. Эта функция передается как аргумент key. Например, при сортировке списка строк по умолчанию учитывается реестр символов(букв):"
   ]
  },
  {
   "cell_type": "code",
   "execution_count": 53,
   "id": "31523e7f",
   "metadata": {},
   "outputs": [
    {
     "data": {
      "text/plain": [
       "['Inqusiiton', 'Nobody', 'Spanish', 'expects', 'the']"
      ]
     },
     "execution_count": 53,
     "metadata": {},
     "output_type": "execute_result"
    }
   ],
   "source": [
    "sorted('Nobody expects the Spanish Inqusiiton'.split())"
   ]
  },
  {
   "cell_type": "markdown",
   "id": "fb87d75c",
   "metadata": {},
   "source": [
    "    Но можно не учитывать реестр букв при сортировке, передавая каждое слово в метод str.lower:"
   ]
  },
  {
   "cell_type": "code",
   "execution_count": 54,
   "id": "9a8301e0",
   "metadata": {},
   "outputs": [
    {
     "data": {
      "text/plain": [
       "['expects', 'Inqusiiton', 'Nobody', 'Spanish', 'the']"
      ]
     },
     "execution_count": 54,
     "metadata": {},
     "output_type": "execute_result"
    }
   ],
   "source": [
    "sorted('Nobody expects the Spanish Inqusiiton'.split(), key = str.lower)"
   ]
  },
  {
   "cell_type": "markdown",
   "id": "50cf1bf6",
   "metadata": {},
   "source": [
    "    Например, для сортировки атомов как кортежей в порядке атомных чисел (второго элемента каждого кортежа):\n",
    "    "
   ]
  },
  {
   "cell_type": "code",
   "execution_count": 56,
   "id": "9dab2647",
   "metadata": {},
   "outputs": [
    {
     "data": {
      "text/plain": [
       "[('F', 9), ('Cl', 17), ('Br', 35), ('I', 53), ('At', 85)]"
      ]
     },
     "execution_count": 56,
     "metadata": {},
     "output_type": "execute_result"
    }
   ],
   "source": [
    "halogens  = [('At',85),('Br',35),('Cl',17),('F',9),('I',53)]\n",
    "sorted(halogens, key = lambda e: e[1])"
   ]
  },
  {
   "cell_type": "markdown",
   "id": "13579549",
   "metadata": {},
   "source": [
    "    Здесь алгоритм сортировки вызывает функцию, определяемую по аргументу key, для каждого элемента кортежа, чтобы решить, какое место должен занять в итоговом списке этот элемент. Анонимная функция просто возращает второй элемент каждого кортежа, обеспечивая сортировку по атомному числу"
   ]
  },
  {
   "cell_type": "markdown",
   "id": "49888515",
   "metadata": {},
   "source": [
    "## 4.3.4 Ключевое слово with"
   ]
  },
  {
   "cell_type": "markdown",
   "id": "95aba076",
   "metadata": {},
   "source": [
    "         Ключевое слово with создает блок кода, который выполняется в определенном контексте. Контекст определяется диспетчером контекста (context manager), который предоставляет пару методов, описывающих, как войти и выйти из контекста. Контексты, определяемые пользователем, в основном применяются в продвинутом коде и могут быть весьма сложными, но в простом примере применения встроенного диспетчера контекста рассматривается файловый ввод/вывод.Здесь вход в контекст выполняется при открытии файла. В блоке контекста файл считывается или записывается, после чего файл закрывается с выходом из контекста. Объект file является диспетчером контекста, который возращается методом open().Диспетчер контекста определяет метод выхода, который просто закрывает файл, поэтому не требуется явное выполнение этой операции. Для открытия файла в контексте используется следующий код:"
   ]
  },
  {
   "cell_type": "code",
   "execution_count": 59,
   "id": "aeb7f870",
   "metadata": {},
   "outputs": [],
   "source": [
    "#with open('filename') as f:\n",
    "    #обработка файла каким-либо способом, например:\n",
    "#    lines = f.readlines()"
   ]
  },
  {
   "cell_type": "markdown",
   "id": "d2d73005",
   "metadata": {},
   "source": [
    "## 4.3.5 Генераторы"
   ]
  },
  {
   "cell_type": "markdown",
   "id": "565c10a0",
   "metadata": {},
   "source": [
    "        Генераторы - мощный инструмент языка Python, они позволяют объявить функцию, поведение которой похоже на итерируемый объект.Такую функцию можно использовать в цикле for, так как она будет последовательно генерировать по одному значению по запросу. Часто подобный метод более эффективен, чем вычисление и сохранение всех значений, для которых должны выполняться итерации.Функция генератор выглядит почти как обычная функция, но вместо выхода с возращаемым (return) значением, она содержит ключевое слово yield, которое возращает значение каждый раз, когда оно требуется на очередной итерации.\n",
    "        Самый простой пример поможет лучше понять работу генератора. Определим генератор count для реализации счетчика до значения переменной n:\n"
   ]
  },
  {
   "cell_type": "code",
   "execution_count": 61,
   "id": "09d75bbc",
   "metadata": {},
   "outputs": [
    {
     "name": "stdout",
     "output_type": "stream",
     "text": [
      "1\n",
      "2\n",
      "3\n",
      "4\n",
      "5\n"
     ]
    }
   ],
   "source": [
    "def count(n):\n",
    "    i = 0\n",
    "    while i<n:\n",
    "        i+=1\n",
    "        yield i\n",
    "\n",
    "for j in count(5):\n",
    "    print(j)"
   ]
  },
  {
   "cell_type": "code",
   "execution_count": 65,
   "id": "72ec7163",
   "metadata": {},
   "outputs": [
    {
     "data": {
      "text/plain": [
       "<generator object count at 0x7ff5b055a890>"
      ]
     },
     "execution_count": 65,
     "metadata": {},
     "output_type": "execute_result"
    }
   ],
   "source": [
    "count(5) #так вызвать нельзя"
   ]
  },
  {
   "cell_type": "markdown",
   "id": "bf3b8154",
   "metadata": {},
   "source": [
    "    Предполагается, что генератор должен вызываться как часть цикла и на каждой итерации генератор выдает (yield) результат и сохраняет свое состояние (текущее значение i) до следующего вызова из цикла."
   ]
  },
  {
   "cell_type": "markdown",
   "id": "d80e83e5",
   "metadata": {},
   "source": [
    "    Существует еще и синтаксис генерации генераторов, похожий на синтаксис генерации списков:"
   ]
  },
  {
   "cell_type": "code",
   "execution_count": 69,
   "id": "73a9ecfe",
   "metadata": {},
   "outputs": [
    {
     "name": "stdout",
     "output_type": "stream",
     "text": [
      "0\n",
      "1\n",
      "4\n",
      "9\n",
      "16\n"
     ]
    }
   ],
   "source": [
    "squares = (x**2 for x in range(5))\n",
    "for square in squares :\n",
    "    print(square)"
   ]
  },
  {
   "cell_type": "markdown",
   "id": "7f01c480",
   "metadata": {},
   "source": [
    "    Для получения списка или кортежа значений генератора нужно просто передать их в список или кортеж, как показано в примере П.4.13"
   ]
  },
  {
   "cell_type": "markdown",
   "id": "286a5537",
   "metadata": {},
   "source": [
    "    Пример П.4.13\n",
    "    Эта функция определяет генератор треугольных чисел"
   ]
  },
  {
   "cell_type": "code",
   "execution_count": 72,
   "id": "943e2c4d",
   "metadata": {},
   "outputs": [
    {
     "data": {
      "text/plain": [
       "[0, 1, 3, 6, 10, 15, 21, 28, 36, 45, 55, 66, 78, 91, 105]"
      ]
     },
     "execution_count": 72,
     "metadata": {},
     "output_type": "execute_result"
    }
   ],
   "source": [
    "def triangular_numbers(n):\n",
    "    i,t = 1,0\n",
    "    while i<=n:\n",
    "        yield t\n",
    "        t +=i \n",
    "        i +=1\n",
    "list(triangular_numbers(15))"
   ]
  },
  {
   "cell_type": "code",
   "execution_count": null,
   "id": "19488b2f",
   "metadata": {},
   "outputs": [],
   "source": []
  }
 ],
 "metadata": {
  "kernelspec": {
   "display_name": "Python 3",
   "language": "python",
   "name": "python3"
  },
  "language_info": {
   "codemirror_mode": {
    "name": "ipython",
    "version": 3
   },
   "file_extension": ".py",
   "mimetype": "text/x-python",
   "name": "python",
   "nbconvert_exporter": "python",
   "pygments_lexer": "ipython3",
   "version": "3.8.8"
  }
 },
 "nbformat": 4,
 "nbformat_minor": 5
}
