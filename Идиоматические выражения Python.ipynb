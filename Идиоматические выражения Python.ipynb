{
 "cells": [
  {
   "cell_type": "markdown",
   "id": "04ec5c18",
   "metadata": {},
   "source": [
    "# 4.3 Идиоматические выражения Python:"
   ]
  },
  {
   "cell_type": "markdown",
   "id": "5a9c9805",
   "metadata": {},
   "source": [
    "## Синтаксический сахар"
   ]
  },
  {
   "cell_type": "markdown",
   "id": "16ba8ab6",
   "metadata": {},
   "source": [
    "    Многие языки программирования предоставляют синтаксис, позволяющий проще выполнять часто встречающихся небольшие действия и писать более яный код. Такой синтаксический сахар состоит из конструкций, которые можно убрать из языка без ущерба его функциональности."
   ]
  },
  {
   "cell_type": "markdown",
   "id": "e438120f",
   "metadata": {},
   "source": [
    "## 4.3.1 Рациональные операции сравнения и присваивания"
   ]
  },
  {
   "cell_type": "markdown",
   "id": "20267073",
   "metadata": {},
   "source": [
    "    Если один объект необходимо присвоить нескольким переменным, то можно воспользоваться рациональной операцией присваивания:"
   ]
  },
  {
   "cell_type": "code",
   "execution_count": 5,
   "id": "9589ce29",
   "metadata": {},
   "outputs": [],
   "source": [
    "x = y = z = -1"
   ]
  },
  {
   "cell_type": "markdown",
   "id": "d52f81d4",
   "metadata": {},
   "source": [
    "    Несколько присваиваний различных объектов можно выполнить в одной строке с помощью распаковки кортежа:"
   ]
  },
  {
   "cell_type": "code",
   "execution_count": 7,
   "id": "6a840f1c",
   "metadata": {},
   "outputs": [],
   "source": [
    "a,b,c = x + 1, 'hello', -4.5"
   ]
  },
  {
   "cell_type": "markdown",
   "id": "461b2215",
   "metadata": {},
   "source": [
    "    Кортеж в правой части этого выражения (в этом случае скобки не обязательны) распаковываются для присваивания его элементов именам переменных в левой части. Эта строка равнозначна следующим трем строкам:"
   ]
  },
  {
   "cell_type": "code",
   "execution_count": 8,
   "id": "0f153336",
   "metadata": {},
   "outputs": [],
   "source": [
    "a = x + 1\n",
    "b = 'hello'\n",
    "c = -4.5"
   ]
  },
  {
   "cell_type": "markdown",
   "id": "666131cb",
   "metadata": {},
   "source": [
    "    В подобных выражениях сначала вычисляется правая часть, затем выполняется присваивание в левой части. Как уже было показано ранее, такой подход предоставляет очень удобный способ обмена значениями двух переменных без использования временной переменной:"
   ]
  },
  {
   "cell_type": "code",
   "execution_count": 10,
   "id": "9aa0209f",
   "metadata": {},
   "outputs": [],
   "source": [
    "a,b = b,a"
   ]
  },
  {
   "cell_type": "markdown",
   "id": "49f80e43",
   "metadata": {},
   "source": [
    "    Операции сравнения также можно объединять в цепочку вполне естественным способом:"
   ]
  },
  {
   "cell_type": "code",
   "execution_count": 12,
   "id": "06736d78",
   "metadata": {},
   "outputs": [],
   "source": [
    "if a == b == 3:\n",
    "    print('a and b both equal 3')\n",
    "if -1 < x < 1:\n",
    "    print('x is between -1 and 1')"
   ]
  },
  {
   "cell_type": "markdown",
   "id": "393e1724",
   "metadata": {},
   "source": [
    "    Python поддерживает операцию условного присваивания: имени переменной может быть присвоено одно или другое значение в зависимости от результата вычисления выражения if...else непосредственно в строке присваивания."
   ]
  },
  {
   "cell_type": "code",
   "execution_count": 15,
   "id": "f7f1c838",
   "metadata": {},
   "outputs": [],
   "source": [
    "import math\n",
    "#Например:  \n",
    "y = math.sin(x)/x if x else 1"
   ]
  },
  {
   "cell_type": "markdown",
   "id": "76854d4d",
   "metadata": {},
   "source": [
    "    Короткие примеры, подобные приведенному выше, в которых показано, как можно избежать потенциального деления на ноль (напомню, что 0 вычисляется как False), весьма просты. Поэтому не рекомендуется применять эту идиоматическую конструкцию в более сложных случаях, а лучше заменить ее более явной конструкцией, например:"
   ]
  },
  {
   "cell_type": "code",
   "execution_count": 17,
   "id": "209ec2ec",
   "metadata": {},
   "outputs": [],
   "source": [
    "try:\n",
    "    y = math.sin(x)/3\n",
    "except ZeroDivisionError:\n",
    "    y = 1"
   ]
  },
  {
   "cell_type": "markdown",
   "id": "4f35bec8",
   "metadata": {},
   "source": [
    "## 4.3.2 Генерация списка"
   ]
  },
  {
   "cell_type": "markdown",
   "id": "b3d200fa",
   "metadata": {},
   "source": [
    "    Генератор списков в Python - это конструкция для создания списка на основе другого итерируемого объекта в одной строке кода. Например, если задан список чисел xlist, то список квадратов этих чисел можно сгенерировать следующим образом:"
   ]
  },
  {
   "cell_type": "code",
   "execution_count": 19,
   "id": "62c50c7b",
   "metadata": {},
   "outputs": [
    {
     "data": {
      "text/plain": [
       "[1, 4, 9, 16, 25]"
      ]
     },
     "execution_count": 19,
     "metadata": {},
     "output_type": "execute_result"
    }
   ],
   "source": [
    "xlist = [1,2,3,4,5]\n",
    "x2list = [x**2 for x in xlist]\n",
    "x2list"
   ]
  },
  {
   "cell_type": "markdown",
   "id": "32de2c81",
   "metadata": {},
   "source": [
    "    Это более острый и синтаксически более удобный и понятный способ создания списка, по сравнению с созданием того же списка в блоке кода цикла for:"
   ]
  },
  {
   "cell_type": "code",
   "execution_count": 21,
   "id": "d53a3537",
   "metadata": {},
   "outputs": [
    {
     "data": {
      "text/plain": [
       "[1, 9, 25]"
      ]
     },
     "execution_count": 21,
     "metadata": {},
     "output_type": "execute_result"
    }
   ],
   "source": [
    "x2list = [x**2 for x in xlist if x % 2]\n",
    "x2list"
   ]
  },
  {
   "cell_type": "markdown",
   "id": "5447c81d",
   "metadata": {},
   "source": [
    "    Здесь x передается в выражение x ** 2 для включения в формируемый список x2list, только если выражение x % 2 дает результат True (т.е. если x - нечетное число). Это пример фильтра (одиночного условного выражения if)Если требуется сложное отображение значений из исходной последовательности в значения создаваемого списка, то необходимо поместить выражение if ...else перед циклом for:"
   ]
  },
  {
   "cell_type": "code",
   "execution_count": 22,
   "id": "f7994e4e",
   "metadata": {},
   "outputs": [
    {
     "data": {
      "text/plain": [
       "[1, 8, 9, 64, 25]"
      ]
     },
     "execution_count": 22,
     "metadata": {},
     "output_type": "execute_result"
    }
   ],
   "source": [
    "[x**2 if x % 2 else x**3 for x in xlist]"
   ]
  },
  {
   "cell_type": "markdown",
   "id": "19ca9e9f",
   "metadata": {},
   "source": [
    "    Этот генератор возводит в квадрат нечетные числа или в куб четные целые числа из списка xlist"
   ]
  },
  {
   "cell_type": "markdown",
   "id": "1d83de59",
   "metadata": {},
   "source": [
    "    Разумеется, последовательность, используемая для генерации списка, не должна содержать другой список. Например, строки, кортежи и объекты range являются итерируемыми объектами, поэтому могут использоваться для генерации списков:"
   ]
  },
  {
   "cell_type": "code",
   "execution_count": 24,
   "id": "14b5a7bb",
   "metadata": {},
   "outputs": [
    {
     "data": {
      "text/plain": [
       "['A', 'B', 'C', ' ', 'W', 'Y', 'Z']"
      ]
     },
     "execution_count": 24,
     "metadata": {},
     "output_type": "execute_result"
    }
   ],
   "source": [
    "[x**3 for x in range(1, 10)]\n",
    "[w.upper() for w in 'abc wyz']"
   ]
  },
  {
   "cell_type": "markdown",
   "id": "eba2d212",
   "metadata": {},
   "source": [
    "    Наконец, генераторы списков могут быть вложенными. Например, в следующем фрагменте кода демонстрируется преобразование списка, состоящего из вложенных списков, в простой одномерный список:"
   ]
  },
  {
   "cell_type": "code",
   "execution_count": 26,
   "id": "4dc00255",
   "metadata": {},
   "outputs": [
    {
     "data": {
      "text/plain": [
       "[1, 2, 3, 4, 5, 6, 7, 8, 9]"
      ]
     },
     "execution_count": 26,
     "metadata": {},
     "output_type": "execute_result"
    }
   ],
   "source": [
    "vlist = [[1,2,3],[4,5,6],[7,8,9]]\n",
    "[c for v in vlist for c in v]"
   ]
  },
  {
   "cell_type": "markdown",
   "id": "fa6ad29e",
   "metadata": {},
   "source": [
    "    Здесь первый цикл for обрабатывает внутренние списки по очереди как v, и по каждому внутреннему списку v выполняется итеративный проход с переменной с для добавления элементов в создаваемый список"
   ]
  },
  {
   "cell_type": "markdown",
   "id": "7f58713e",
   "metadata": {},
   "source": [
    "**Пример П4.10**\n",
    "Рассмотрим матрицу 3*3, представленную как список списков:"
   ]
  },
  {
   "cell_type": "code",
   "execution_count": 27,
   "id": "23e8df57",
   "metadata": {},
   "outputs": [],
   "source": [
    "M = [[1,2,3],[4,5,6],[7,8,9]]"
   ]
  },
  {
   "cell_type": "markdown",
   "id": "c1bcc6c3",
   "metadata": {},
   "source": [
    "Без использования генератора списков операцию транспонирования этой матрицы можно было реализовать с помощью циклов с проходом по строкам и столбцам:"
   ]
  },
  {
   "cell_type": "code",
   "execution_count": 30,
   "id": "f084c04e",
   "metadata": {},
   "outputs": [],
   "source": [
    "MT = [[0,0,0],[0,0,0],[0,0,0]]\n",
    "for ir in range(3):\n",
    "    for ic in range(3):\n",
    "        MT[ic][ir] = M[ir][ic]"
   ]
  },
  {
   "cell_type": "markdown",
   "id": "fc76dc30",
   "metadata": {},
   "source": [
    "    Применяя генератор списков, операцию транспонирования матрицы можно реализовать следующим образом:"
   ]
  },
  {
   "cell_type": "code",
   "execution_count": 32,
   "id": "1a22f513",
   "metadata": {},
   "outputs": [],
   "source": [
    "MT = []\n",
    "for i in range(3):\n",
    "    MT.append([row[i] for row in M])"
   ]
  },
  {
   "cell_type": "markdown",
   "id": "27a2e4fd",
   "metadata": {},
   "source": [
    "    Здесь строки транспонированной матрицы формируются из столбцов (проиндексированных как i = 0,1,2) из каждой строки, взятой из исходной матрицы M. Внешний цикл можно представить сам по себе как генератор собственного спика: "
   ]
  },
  {
   "cell_type": "code",
   "execution_count": 36,
   "id": "dd4f5093",
   "metadata": {},
   "outputs": [
    {
     "data": {
      "text/plain": [
       "[[1, 4, 7], [2, 5, 8], [3, 6, 9]]"
      ]
     },
     "execution_count": 36,
     "metadata": {},
     "output_type": "execute_result"
    }
   ],
   "source": [
    "MT = [[row[i] for row in M] for i in range(3)]\n",
    "MT"
   ]
  },
  {
   "cell_type": "code",
   "execution_count": 37,
   "id": "502474e4",
   "metadata": {},
   "outputs": [
    {
     "data": {
      "text/plain": [
       "[[1, 4, 7], [2, 5, 8], [3, 6, 9]]"
      ]
     },
     "execution_count": 37,
     "metadata": {},
     "output_type": "execute_result"
    }
   ],
   "source": [
    "MT"
   ]
  },
  {
   "cell_type": "markdown",
   "id": "a09147b8",
   "metadata": {},
   "source": [
    "    Но следует отметить, что библиотека NumPy предоставляет гораздо более простые и удобные средства для работы с матрицами."
   ]
  },
  {
   "cell_type": "markdown",
   "id": "bd064dd1",
   "metadata": {},
   "source": [
    "## 4.3.3 Лямбда-функции"
   ]
  },
  {
   "cell_type": "markdown",
   "id": "936d2ff1",
   "metadata": {},
   "source": [
    "    Лямбда-функции(lambda) в Python - это тип простой анонимной функции. Выполняемое тело лямбда-функции обязательно должно  быть выражением (expression), а не инструкцией (statement), t.e. тело лямбда-функции не может содержать, например, блоки циклов, проверки условий, или инструкции print. Лямбда-функции обеспечивают ограниченную поддержку парадигмы программирования, известной как \"функциональное программирование\" (functional programming). Простейший пример применения лямбда функции немного отличается от обычного способа определения функции def, показан ниже:"
   ]
  },
  {
   "cell_type": "code",
   "execution_count": 39,
   "id": "dbaf8ee6",
   "metadata": {},
   "outputs": [
    {
     "name": "stdout",
     "output_type": "stream",
     "text": [
      "6.0\n"
     ]
    }
   ],
   "source": [
    "f = lambda x: x**2 - 3*x + 2\n",
    "print(f(4.))"
   ]
  },
  {
   "cell_type": "markdown",
   "id": "de75a3d2",
   "metadata": {},
   "source": [
    "    Аргумент передается в x, а результат, обусловленный определением лямбда - функции после двоеточия, возращается вызывающей стороне. Для передачи нескольких переменных в лямбда-функцию используется кортеж (без скобок):"
   ]
  },
  {
   "cell_type": "code",
   "execution_count": 40,
   "id": "76eef03e",
   "metadata": {},
   "outputs": [
    {
     "data": {
      "text/plain": [
       "25.0"
      ]
     },
     "execution_count": 40,
     "metadata": {},
     "output_type": "execute_result"
    }
   ],
   "source": [
    "f = lambda x,y: x**2 + y**2 + 2*x*y\n",
    "f(2.,3.)"
   ]
  },
  {
   "cell_type": "markdown",
   "id": "1a4733e5",
   "metadata": {},
   "source": [
    "    В этих примерах не наблюдается какая-либо особая польза от лямбда-функций, да и определенные здесь функции не вполне анонимны (поскольку они были связаны с именем переменной f). Более полезное применение - создание списка функций, как показано в примере П4.11."
   ]
  },
  {
   "cell_type": "code",
   "execution_count": null,
   "id": "50a1548e",
   "metadata": {},
   "outputs": [],
   "source": []
  }
 ],
 "metadata": {
  "kernelspec": {
   "display_name": "Python 3",
   "language": "python",
   "name": "python3"
  },
  "language_info": {
   "codemirror_mode": {
    "name": "ipython",
    "version": 3
   },
   "file_extension": ".py",
   "mimetype": "text/x-python",
   "name": "python",
   "nbconvert_exporter": "python",
   "pygments_lexer": "ipython3",
   "version": "3.8.8"
  }
 },
 "nbformat": 4,
 "nbformat_minor": 5
}
