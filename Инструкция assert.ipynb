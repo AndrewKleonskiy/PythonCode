{
 "cells": [
  {
   "cell_type": "markdown",
   "id": "d75045f3",
   "metadata": {},
   "source": [
    "# Инструкция assert"
   ]
  },
  {
   "cell_type": "code",
   "execution_count": 4,
   "id": "a530a0e8",
   "metadata": {},
   "outputs": [],
   "source": [
    "def apply_discount(product,discount):\n",
    "    price = int(product['цена'] * (1.0 - discount))\n",
    "    assert 0 <= price <= product['цена']\n",
    "    return price"
   ]
  },
  {
   "cell_type": "code",
   "execution_count": 5,
   "id": "6cb47c7c",
   "metadata": {},
   "outputs": [],
   "source": [
    "shoes ={'имя':'Модные туфли','цена': 14900}"
   ]
  },
  {
   "cell_type": "code",
   "execution_count": 6,
   "id": "7f013259",
   "metadata": {},
   "outputs": [
    {
     "data": {
      "text/plain": [
       "11175"
      ]
     },
     "execution_count": 6,
     "metadata": {},
     "output_type": "execute_result"
    }
   ],
   "source": [
    "apply_discount(shoes,0.25)"
   ]
  },
  {
   "cell_type": "code",
   "execution_count": 7,
   "id": "9501892a",
   "metadata": {},
   "outputs": [
    {
     "ename": "AssertionError",
     "evalue": "",
     "output_type": "error",
     "traceback": [
      "\u001b[0;31m---------------------------------------------------------------------------\u001b[0m",
      "\u001b[0;31mAssertionError\u001b[0m                            Traceback (most recent call last)",
      "\u001b[0;32m<ipython-input-7-3e82077ef95d>\u001b[0m in \u001b[0;36m<module>\u001b[0;34m\u001b[0m\n\u001b[0;32m----> 1\u001b[0;31m \u001b[0mapply_discount\u001b[0m\u001b[0;34m(\u001b[0m\u001b[0mshoes\u001b[0m\u001b[0;34m,\u001b[0m\u001b[0;36m2.0\u001b[0m\u001b[0;34m)\u001b[0m\u001b[0;34m\u001b[0m\u001b[0;34m\u001b[0m\u001b[0m\n\u001b[0m",
      "\u001b[0;32m<ipython-input-4-5ff8c11f88a8>\u001b[0m in \u001b[0;36mapply_discount\u001b[0;34m(product, discount)\u001b[0m\n\u001b[1;32m      1\u001b[0m \u001b[0;32mdef\u001b[0m \u001b[0mapply_discount\u001b[0m\u001b[0;34m(\u001b[0m\u001b[0mproduct\u001b[0m\u001b[0;34m,\u001b[0m\u001b[0mdiscount\u001b[0m\u001b[0;34m)\u001b[0m\u001b[0;34m:\u001b[0m\u001b[0;34m\u001b[0m\u001b[0;34m\u001b[0m\u001b[0m\n\u001b[1;32m      2\u001b[0m     \u001b[0mprice\u001b[0m \u001b[0;34m=\u001b[0m \u001b[0mint\u001b[0m\u001b[0;34m(\u001b[0m\u001b[0mproduct\u001b[0m\u001b[0;34m[\u001b[0m\u001b[0;34m'цена'\u001b[0m\u001b[0;34m]\u001b[0m \u001b[0;34m*\u001b[0m \u001b[0;34m(\u001b[0m\u001b[0;36m1.0\u001b[0m \u001b[0;34m-\u001b[0m \u001b[0mdiscount\u001b[0m\u001b[0;34m)\u001b[0m\u001b[0;34m)\u001b[0m\u001b[0;34m\u001b[0m\u001b[0;34m\u001b[0m\u001b[0m\n\u001b[0;32m----> 3\u001b[0;31m     \u001b[0;32massert\u001b[0m \u001b[0;36m0\u001b[0m \u001b[0;34m<=\u001b[0m \u001b[0mprice\u001b[0m \u001b[0;34m<=\u001b[0m \u001b[0mproduct\u001b[0m\u001b[0;34m[\u001b[0m\u001b[0;34m'цена'\u001b[0m\u001b[0;34m]\u001b[0m\u001b[0;34m\u001b[0m\u001b[0;34m\u001b[0m\u001b[0m\n\u001b[0m\u001b[1;32m      4\u001b[0m     \u001b[0;32mreturn\u001b[0m \u001b[0mprice\u001b[0m\u001b[0;34m\u001b[0m\u001b[0;34m\u001b[0m\u001b[0m\n",
      "\u001b[0;31mAssertionError\u001b[0m: "
     ]
    }
   ],
   "source": [
    "apply_discount(shoes,2.0)"
   ]
  },
  {
   "cell_type": "markdown",
   "id": "d0fae365",
   "metadata": {},
   "source": [
    "## Синтаксис инструкции Python assert"
   ]
  },
  {
   "cell_type": "markdown",
   "id": "030b8973",
   "metadata": {},
   "source": [
    "инструкция assert :: = \"assert\" выражение1 [\",\", выражение]"
   ]
  },
  {
   "cell_type": "markdown",
   "id": "093499c4",
   "metadata": {},
   "source": [
    "Выражение1 - условие, которое мы проверяем, а необязательное выражение2 - сообщение об ошибке, которое выводится на экран, если утверждение дает сбой"
   ]
  },
  {
   "cell_type": "markdown",
   "id": "16c8a04c",
   "metadata": {},
   "source": [
    "if __debug__:\n",
    "    if not выражение1:\n",
    "        raise AssertionError(Выражение2)"
   ]
  },
  {
   "cell_type": "markdown",
   "id": "dd6a0075",
   "metadata": {},
   "source": []
  },
  {
   "cell_type": "markdown",
   "id": "d91979b5",
   "metadata": {},
   "source": [
    "### Предостережение №1:  \n",
    "\n",
    "Не используйте инструкции assert для проверки данных"
   ]
  },
  {
   "cell_type": "code",
   "execution_count": 17,
   "id": "a38b50bc",
   "metadata": {},
   "outputs": [],
   "source": [
    "#Неправильно:\n",
    "def delete_product(prod_id,user):\n",
    "    assert user.is_admin(), 'здесь должен быть администратор'\n",
    "    assert store.has_product(prod_id), 'Неизвестный товар'\n",
    "    store. get_product(prod_id).delete()"
   ]
  },
  {
   "cell_type": "code",
   "execution_count": 16,
   "id": "f9a0e587",
   "metadata": {},
   "outputs": [],
   "source": [
    "#Правильно:\n",
    "def delete_product(product_id, user):\n",
    "    if not user.is_admin():\n",
    "        raise AuthError('Для удаления необходимы права админа')\n",
    "    if not store.has_product(product_id):\n",
    "        raise ValueError('Идентификатор неизвестного товара')\n",
    "    store.get_product(product_id).delete()"
   ]
  },
  {
   "cell_type": "markdown",
   "id": "9250990b",
   "metadata": {},
   "source": [
    "### Предостережение №2:  \n",
    "\n",
    "Инструкции assert, которые никогда не дают сбоя"
   ]
  },
  {
   "cell_type": "markdown",
   "id": "a9ec0470",
   "metadata": {},
   "source": [
    "Например:Когда в инструкцию assert в качестве первого аргумента передается кортеж, assert всегда возвращает True и по этой причине выполняется успешно."
   ]
  },
  {
   "cell_type": "code",
   "execution_count": 20,
   "id": "a955f068",
   "metadata": {},
   "outputs": [
    {
     "name": "stderr",
     "output_type": "stream",
     "text": [
      "<>:2: SyntaxWarning: assertion is always true, perhaps remove parentheses?\n",
      "<>:2: SyntaxWarning: assertion is always true, perhaps remove parentheses?\n",
      "<ipython-input-20-4d7ffb3402e8>:2: SyntaxWarning: assertion is always true, perhaps remove parentheses?\n",
      "  assert ( 1==2, 'Это утверждение должно вызвать сбой')\n"
     ]
    }
   ],
   "source": [
    "# Например, это утверждение никогда не будет давать сбой:\n",
    "assert ( 1==2, 'Это утверждение должно вызвать сбой')"
   ]
  },
  {
   "cell_type": "markdown",
   "id": "f8e1d300",
   "metadata": {},
   "source": [
    "## Ключевые выводы\n",
    " -- Инструкция Python assert — это средство отладки, которое проверяет условие, выступающее в качестве внутренней самопроверки вашей программы.  \n",
    " -- Инструкции assert должны применяться только для того, чтобы по- могать разработчикам идентифицировать ошибки. Они не являются механизмом обработки ошибок периода исполнения программы.  \n",
    " --Инструкции assert могут быть глобально отключены в настройках интерпретатора."
   ]
  },
  {
   "cell_type": "code",
   "execution_count": null,
   "id": "c48a8d24",
   "metadata": {},
   "outputs": [],
   "source": []
  }
 ],
 "metadata": {
  "kernelspec": {
   "display_name": "Python 3",
   "language": "python",
   "name": "python3"
  },
  "language_info": {
   "codemirror_mode": {
    "name": "ipython",
    "version": 3
   },
   "file_extension": ".py",
   "mimetype": "text/x-python",
   "name": "python",
   "nbconvert_exporter": "python",
   "pygments_lexer": "ipython3",
   "version": "3.8.8"
  }
 },
 "nbformat": 4,
 "nbformat_minor": 5
}
