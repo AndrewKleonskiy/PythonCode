{
 "cells": [
  {
   "cell_type": "markdown",
   "id": "e569f3e4",
   "metadata": {},
   "source": [
    "# **4.2 Объекты Python III: Словари и множества**"
   ]
  },
  {
   "cell_type": "markdown",
   "id": "2aad3f83",
   "metadata": {},
   "source": [
    "В Python словарь - тип \"ассоцитируемого массива\" (называют \"хэшем\")\n",
    "    Словарь может содержать любые значения (values),но,в отличие от таких последовательностей как списки и кортежи, в которых элементы индексируются целыми числами, начиная с 0 , каждый элемент в словаре индексируется неповторяющимся ключем (key), который может быть любым неизменяемым объектом\n",
    "        Таким образом, словарь сущесствует как набор пар ключ-значение. Сами по себе словари являются изменяемыми объектами."
   ]
  },
  {
   "cell_type": "markdown",
   "id": "57244955",
   "metadata": {},
   "source": [
    "## 4.2.1 Определение и индексирование словаря"
   ]
  },
  {
   "cell_type": "code",
   "execution_count": 5,
   "id": "6c0cd71f",
   "metadata": {},
   "outputs": [
    {
     "data": {
      "text/plain": [
       "{'Burj Khakifa': 828.0,\n",
       " 'One World Trade Center': 541.3,\n",
       " 'Mercury City Tower': 339.0,\n",
       " 'Q1': 323.0,\n",
       " 'Carlon Centre': 223.0,\n",
       " 'Gran Torre Santiago': 300.0}"
      ]
     },
     "execution_count": 5,
     "metadata": {},
     "output_type": "execute_result"
    }
   ],
   "source": [
    "# Словарь можно определить с помощью пар key:value, записанных в фигурных скобках:\n",
    "\n",
    "height = {'Burj Khakifa':828.,'One World Trade Center': 541.3, 'Mercury City Tower': -1., 'Q1':323.,\n",
    "         'Carlon Centre':223., 'Gran Torre Santiago': 300.,\n",
    "         'Mercury City Tower':339.}\n",
    "\n",
    "height"
   ]
  },
  {
   "cell_type": "code",
   "execution_count": 7,
   "id": "27b047e6",
   "metadata": {},
   "outputs": [
    {
     "data": {
      "text/plain": [
       "339.0"
      ]
     },
     "execution_count": 7,
     "metadata": {},
     "output_type": "execute_result"
    }
   ],
   "source": [
    "height['Mercury City Tower']"
   ]
  },
  {
   "cell_type": "markdown",
   "id": "da67e742",
   "metadata": {},
   "source": [
    "Другой способ определения словаря – передача последовательности пар (ключ, значение) в конструктор dict. Если ключами являются простые строки (которые могут использоваться как имена переменных), то пары можно также определять как именованные аргументы для конструктора dict:"
   ]
  },
  {
   "cell_type": "code",
   "execution_count": 12,
   "id": "237b7f4e",
   "metadata": {},
   "outputs": [],
   "source": [
    "ordinal = dict([(1,'First'),(2,'Second'),(3,'Third|')])\n",
    "mass = dict(Mercury = 3.301e23, Venus = 4.867e24, Earth = 5.972e24)"
   ]
  },
  {
   "cell_type": "code",
   "execution_count": 14,
   "id": "7e8760e0",
   "metadata": {},
   "outputs": [
    {
     "data": {
      "text/plain": [
       "'Third|'"
      ]
     },
     "execution_count": 14,
     "metadata": {},
     "output_type": "execute_result"
    }
   ],
   "source": [
    "ordinal[3]"
   ]
  },
  {
   "cell_type": "code",
   "execution_count": 16,
   "id": "55e129b5",
   "metadata": {},
   "outputs": [
    {
     "name": "stdout",
     "output_type": "stream",
     "text": [
      "1 First\n",
      "2 Second\n",
      "3 Third|\n"
     ]
    }
   ],
   "source": [
    "for c in ordinal:\n",
    "    print (c,ordinal[c])"
   ]
  },
  {
   "cell_type": "markdown",
   "id": "f344291c",
   "metadata": {},
   "source": [
    "## 4.2.2 Методы словаря"
   ]
  },
  {
   "cell_type": "markdown",
   "id": "0094f6b5",
   "metadata": {},
   "source": [
    "### Метод get"
   ]
  },
  {
   "cell_type": "markdown",
   "id": "4ff7cf7d",
   "metadata": {},
   "source": [
    "Метод get() используется для извлечения значения, задавая ключ, если он существует, или некоторое значение по умолчанию, если ключ не существует"
   ]
  },
  {
   "cell_type": "code",
   "execution_count": 20,
   "id": "61d0b067",
   "metadata": {},
   "outputs": [
    {
     "name": "stdout",
     "output_type": "stream",
     "text": [
      "None\n",
      "-1\n"
     ]
    }
   ],
   "source": [
    "print(mass.get('Pluto'))\n",
    "print(mass.get('Pluto',-1))"
   ]
  },
  {
   "cell_type": "markdown",
   "id": "777d3120",
   "metadata": {},
   "source": [
    "### Методы keys, values и items"
   ]
  },
  {
   "cell_type": "markdown",
   "id": "89bb64c8",
   "metadata": {},
   "source": [
    "Три метода keys,values и items возвращают соотвественно ключи,значения, и пары ключ-значение (в виде кортежей) словаря.\n",
    "В предыдущих версиях Python эти объекты возращались в списке, но для большинства целей это был напрасный расход памяти:например, вызов метода keys требовал,  чтобы все ключи словаря копировались как список, по которому в большинстве случаев просто выполнялся итеративный проход.\n",
    "        Поэтому обычно нет необходимости в сохранении полной новой копии ключей словаря. Версия Python3 решает эту проблему, возвращая итерируемый объект, который обеспечивает последовательный доступ к каждому ключу словаря без копирования их в список. Это работает быстрее и позволяет экономить память (что важно для весьма больших словарей).Например:  "
   ]
  },
  {
   "cell_type": "code",
   "execution_count": 25,
   "id": "6823513d",
   "metadata": {},
   "outputs": [
    {
     "name": "stdout",
     "output_type": "stream",
     "text": [
      "dict_keys(['Mercury', 'Venus', 'Earth'])\n"
     ]
    }
   ],
   "source": [
    "planets = mass.keys()\n",
    "print(planets)"
   ]
  },
  {
   "cell_type": "code",
   "execution_count": 30,
   "id": "db96b3bd",
   "metadata": {},
   "outputs": [
    {
     "name": "stdout",
     "output_type": "stream",
     "text": [
      "Mercury 3.301e+23\n",
      "Venus 4.867e+24\n",
      "Earth 5.972e+24\n"
     ]
    }
   ],
   "source": [
    "for planet in planets:\n",
    "    print(planet,mass[planet])"
   ]
  },
  {
   "cell_type": "code",
   "execution_count": 33,
   "id": "af8cd45d",
   "metadata": {},
   "outputs": [
    {
     "data": {
      "text/plain": [
       "'Mercury'"
      ]
     },
     "execution_count": 33,
     "metadata": {},
     "output_type": "execute_result"
    }
   ],
   "source": [
    "planet_list = list(mass.keys())\n",
    "planet_list\n",
    "planet_list[0]"
   ]
  },
  {
   "cell_type": "code",
   "execution_count": 34,
   "id": "8adbfa42",
   "metadata": {},
   "outputs": [
    {
     "data": {
      "text/plain": [
       "dict_items([('Mercury', 3.301e+23), ('Venus', 4.867e+24), ('Earth', 5.972e+24)])"
      ]
     },
     "execution_count": 34,
     "metadata": {},
     "output_type": "execute_result"
    }
   ],
   "source": [
    "mass.items()"
   ]
  },
  {
   "cell_type": "code",
   "execution_count": 35,
   "id": "8cb7ac53",
   "metadata": {},
   "outputs": [
    {
     "data": {
      "text/plain": [
       "dict_values([3.301e+23, 4.867e+24, 5.972e+24])"
      ]
     },
     "execution_count": 35,
     "metadata": {},
     "output_type": "execute_result"
    }
   ],
   "source": [
    "mass.values()"
   ]
  },
  {
   "cell_type": "code",
   "execution_count": 37,
   "id": "fd6c20ec",
   "metadata": {},
   "outputs": [
    {
     "name": "stdout",
     "output_type": "stream",
     "text": [
      "('Mercury', 3.301e+23)\n",
      "('Venus', 4.867e+24)\n",
      "('Earth', 5.972e+24)\n"
     ]
    }
   ],
   "source": [
    "for planet_data in mass.items():\n",
    "    print(planet_data)"
   ]
  },
  {
   "cell_type": "markdown",
   "id": "f547d8ca",
   "metadata": {},
   "source": [
    "### Именованные аргументы"
   ]
  },
  {
   "cell_type": "markdown",
   "id": "35e8c005",
   "metadata": {},
   "source": [
    "Ранее предполагалось, что функция всегда должна знать, какие аргументы могут передаваться, и эти аргументы указывались в определении функции. Например:"
   ]
  },
  {
   "cell_type": "code",
   "execution_count": 41,
   "id": "fde7eb9b",
   "metadata": {},
   "outputs": [],
   "source": [
    "#def func(a,b,c):"
   ]
  },
  {
   "cell_type": "code",
   "execution_count": 42,
   "id": "1d884763",
   "metadata": {},
   "outputs": [],
   "source": [
    "def func(a,b,*args):\n",
    "    print(args)"
   ]
  },
  {
   "cell_type": "code",
   "execution_count": 43,
   "id": "f6eb1071",
   "metadata": {},
   "outputs": [
    {
     "name": "stdout",
     "output_type": "stream",
     "text": [
      "(3, 4, 5)\n"
     ]
    }
   ],
   "source": [
    "func(1,2,3,4,5)"
   ]
  },
  {
   "cell_type": "code",
   "execution_count": 49,
   "id": "b8efaaa5",
   "metadata": {},
   "outputs": [],
   "source": [
    "# Упоковка в словарь kwargs\n",
    "def func(a,b, **kwargs):\n",
    "    for k in kwargs:\n",
    "        print(k,'=', kwargs[k])"
   ]
  },
  {
   "cell_type": "code",
   "execution_count": 50,
   "id": "edd6da6f",
   "metadata": {},
   "outputs": [
    {
     "name": "stdout",
     "output_type": "stream",
     "text": [
      "c = 3\n",
      "d = 4\n",
      "s = msg\n"
     ]
    }
   ],
   "source": [
    "func(1,b = 2,c = 3,d = 4, s = 'msg')"
   ]
  },
  {
   "cell_type": "code",
   "execution_count": 51,
   "id": "f1f98f69",
   "metadata": {},
   "outputs": [],
   "source": [
    "def func(a,b,c,x,y,z):\n",
    "    print(a,b,c)\n",
    "    print(x,y,z)"
   ]
  },
  {
   "cell_type": "code",
   "execution_count": 52,
   "id": "b51154ec",
   "metadata": {},
   "outputs": [
    {
     "name": "stdout",
     "output_type": "stream",
     "text": [
      "1 2 3\n",
      "4 5 msg\n"
     ]
    }
   ],
   "source": [
    "args = [1,2,3]\n",
    "kwargs = {'x':4,'y':5,'z':'msg'}\n",
    "func(*args,**kwargs)"
   ]
  },
  {
   "cell_type": "markdown",
   "id": "51050efb",
   "metadata": {},
   "source": [
    "### Объект defaultdict "
   ]
  },
  {
   "cell_type": "markdown",
   "id": "cba69929",
   "metadata": {},
   "source": [
    "Существует полезный контейнер defaultdict, который создает подкласс встроенного объекта dict, позволяющий определить, default_factory, функцию, возвращаещую значение по умолчанию, присваемое отсутсвуюющему ключу."
   ]
  },
  {
   "cell_type": "code",
   "execution_count": 62,
   "id": "7f9c33a2",
   "metadata": {},
   "outputs": [],
   "source": [
    "#Пример\n",
    "text = 'Four score and seven years ago our fathers brought forth i this continent, a new nation, conceived in Liberty, and dedicated to the proposition that all men are created equal'"
   ]
  },
  {
   "cell_type": "code",
   "execution_count": 63,
   "id": "33045382",
   "metadata": {},
   "outputs": [],
   "source": [
    "text = text.replace(',','').lower()"
   ]
  },
  {
   "cell_type": "code",
   "execution_count": 66,
   "id": "61c1cb96",
   "metadata": {},
   "outputs": [
    {
     "name": "stdout",
     "output_type": "stream",
     "text": [
      "{4: 3, 5: 5, 3: 9, 7: 4, 1: 2, 9: 3, 6: 1, 2: 2, 11: 1}\n"
     ]
    }
   ],
   "source": [
    "word_lengths = {}\n",
    "for word in text.split():\n",
    "    try:\n",
    "        word_lengths[len(word)] += 1\n",
    "    except KeyError:\n",
    "        word_lengths[len(word)] = 1\n",
    "print(word_lengths)"
   ]
  },
  {
   "cell_type": "code",
   "execution_count": 68,
   "id": "ff726e55",
   "metadata": {},
   "outputs": [
    {
     "name": "stdout",
     "output_type": "stream",
     "text": [
      "defaultdict(<class 'int'>, {4: 3, 5: 5, 3: 9, 7: 4, 1: 2, 9: 3, 6: 1, 2: 2, 11: 1})\n"
     ]
    }
   ],
   "source": [
    "from collections import defaultdict \n",
    "word_lengths = defaultdict(int)\n",
    "for word in text.split():\n",
    "    word_lengths[len(word)] +=1\n",
    "print(word_lengths)"
   ]
  },
  {
   "cell_type": "code",
   "execution_count": null,
   "id": "091096cd",
   "metadata": {},
   "outputs": [],
   "source": []
  }
 ],
 "metadata": {
  "kernelspec": {
   "display_name": "Python 3",
   "language": "python",
   "name": "python3"
  },
  "language_info": {
   "codemirror_mode": {
    "name": "ipython",
    "version": 3
   },
   "file_extension": ".py",
   "mimetype": "text/x-python",
   "name": "python",
   "nbconvert_exporter": "python",
   "pygments_lexer": "ipython3",
   "version": "3.8.8"
  }
 },
 "nbformat": 4,
 "nbformat_minor": 5
}
